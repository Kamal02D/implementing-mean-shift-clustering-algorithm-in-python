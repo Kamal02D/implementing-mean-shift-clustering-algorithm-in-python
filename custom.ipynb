{
 "cells": [
  {
   "cell_type": "markdown",
   "id": "5d8ee02d",
   "metadata": {},
   "source": [
    "# MEAN SHIFT CLUSTERING"
   ]
  },
  {
   "cell_type": "code",
   "execution_count": 1,
   "id": "39a42b20",
   "metadata": {},
   "outputs": [],
   "source": [
    "import random\n",
    "import math\n",
    "import numpy as np"
   ]
  },
  {
   "cell_type": "code",
   "execution_count": 2,
   "id": "4b4ed508",
   "metadata": {},
   "outputs": [],
   "source": [
    "def euclidean_dist(x1,y1,x2,y2):\n",
    "    if y1 is None and y2 is None:\n",
    "        return math.sqrt((x1-x2)**2)\n",
    "    return math.sqrt((x1-x2)**2+(y1-y2)**2)"
   ]
  },
  {
   "cell_type": "code",
   "execution_count": 3,
   "id": "27209e73",
   "metadata": {},
   "outputs": [],
   "source": [
    "def get_neighbors_indexes(current_point_x,current_point_y , x,y,bandwidth):\n",
    "    neighbors_indexes = []\n",
    "    for i in range(len(x)):\n",
    "            dist = euclidean_dist(current_point_x,current_point_y,x[i],y[i])\n",
    "            if dist <= bandwidth:\n",
    "                neighbors_indexes.append(i)\n",
    "    return neighbors_indexes"
   ]
  },
  {
   "cell_type": "code",
   "execution_count": 4,
   "id": "c3ad85bc",
   "metadata": {},
   "outputs": [],
   "source": [
    "def kernel(z_original , z_copy ,bandwidth,kernel_):\n",
    "    if kernel_ == \"flat\":\n",
    "        return 1\n",
    "    elif kernel_ == \"gaussian\":\n",
    "        return math.exp((-1*(euclidean_dist(z_original,None,z_copy,None)**2)) / (2*bandwidth**2) )"
   ]
  },
  {
   "cell_type": "code",
   "execution_count": 5,
   "id": "b00b190e",
   "metadata": {},
   "outputs": [],
   "source": [
    "def get_new_centroid(indexes_in_region, current_point_x,current_point_y,x,y,bandwidth,kernel_):\n",
    "    centriod_x = 0\n",
    "    centriod_y = 0\n",
    "    sum_kernels_x = 0\n",
    "    sum_kernels_y = 0\n",
    "    for i in range(len(x)):\n",
    "        if i in indexes_in_region:\n",
    "            kx = kernel(current_point_x,x[i],bandwidth,kernel_)\n",
    "            ky = kernel(current_point_y,y[i],bandwidth,kernel_)\n",
    "            centriod_x += x[i]*kx\n",
    "            centriod_y += y[i]*ky\n",
    "            sum_kernels_x += kx\n",
    "            sum_kernels_y += ky\n",
    "    return centriod_x/sum_kernels_x ,centriod_y/sum_kernels_y"
   ]
  },
  {
   "cell_type": "code",
   "execution_count": 6,
   "id": "a042cf82",
   "metadata": {},
   "outputs": [],
   "source": [
    "def generate_labels(centeriods,bandwidth):\n",
    "    labels = [-1] * len(centeriods)\n",
    "    label = 0\n",
    "    for i in range(len(centeriods)):\n",
    "        if labels[i] == -1:\n",
    "            labels[i] = label\n",
    "        for j in range(i+1,len(centeriods)):\n",
    "            if centeriods[i][0] == centeriods[j][0] and centeriods[i][1] == centeriods[j][1] and labels[j] == -1:\n",
    "                labels[j] = label\n",
    "        label += 1\n",
    "    # before returning the labels we need to check if we have two centres that close enough to be considered as one\n",
    "    for i in range(len(centeriods)):\n",
    "        for j in range(i+1,len(centeriods)):\n",
    "            dist = euclidean_dist(centeriods[i][0],centeriods[i][1],centeriods[j][0],centeriods[j][1])\n",
    "            if dist <= bandwidth and dist != 0:\n",
    "                labels[j] = labels[j]\n",
    "                centeriods[j] = centeriods[i]\n",
    "    return labels "
   ]
  },
  {
   "cell_type": "code",
   "execution_count": 7,
   "id": "f6a2f218",
   "metadata": {},
   "outputs": [],
   "source": [
    "def MeanShift(x,y,bandwidth,max_iter,kernel_):\n",
    "    centeriods=[]\n",
    "    for i in range(len(x)):\n",
    "        x_copy = x[i]\n",
    "        y_copy = y[i]\n",
    "        j = 0\n",
    "        while j< max_iter:\n",
    "            neighbors_indexes = get_neighbors_indexes(x_copy,y_copy,x,y,bandwidth)\n",
    "            centeriod = get_new_centroid(neighbors_indexes,x_copy,y_copy,x,y,bandwidth,kernel_)\n",
    "            if centeriod[0]== x_copy and centeriod[1] == y_copy:\n",
    "                # converge\n",
    "                break\n",
    "            x_copy = centeriod[0]\n",
    "            y_copy = centeriod[1]\n",
    "            j += 1\n",
    "        centeriods.append((x_copy,y_copy))\n",
    "    labels_ = generate_labels(centeriods,bandwidth)\n",
    "    print(f\"labels : {labels_}\")\n",
    "    print(f\"centers : {set(centeriods)}\")\n",
    "    plt.scatter(x,y,c=labels_)"
   ]
  },
  {
   "cell_type": "code",
   "execution_count": 8,
   "id": "1f7d6d38",
   "metadata": {},
   "outputs": [],
   "source": [
    "x = [1, 5, 3, 10, 11, 8, 2]\n",
    "y = [2,7,2,10,12,7,3]"
   ]
  },
  {
   "cell_type": "code",
   "execution_count": 9,
   "id": "e748c6fb",
   "metadata": {},
   "outputs": [],
   "source": [
    "import matplotlib.pyplot as plt"
   ]
  },
  {
   "cell_type": "code",
   "execution_count": 10,
   "id": "4af97d5a",
   "metadata": {},
   "outputs": [
    {
     "data": {
      "text/plain": [
       "<matplotlib.collections.PathCollection at 0x1c3b53e14b0>"
      ]
     },
     "execution_count": 10,
     "metadata": {},
     "output_type": "execute_result"
    },
    {
     "data": {
      "image/png": "[encoded data removed]",
      "text/plain": [
       "<Figure size 640x480 with 1 Axes>"
      ]
     },
     "metadata": {},
     "output_type": "display_data"
    }
   ],
   "source": [
    "plt.scatter(x,y)"
   ]
  },
  {
   "cell_type": "markdown",
   "id": "dad587a2",
   "metadata": {},
   "source": [
    "# flat kernel"
   ]
  },
  {
   "cell_type": "code",
   "execution_count": 11,
   "id": "1fc379a8",
   "metadata": {},
   "outputs": [
    {
     "name": "stdout",
     "output_type": "stream",
     "text": [
      "labels : [0, 1, 0, 3, 3, 1, 0]\n",
      "centers : {(6.5, 7.0), (10.5, 11.0), (2.0, 2.3333333333333335)}\n"
     ]
    },
    {
     "data": {
      "image/png": "[encoded data removed]",
      "text/plain": [
       "<Figure size 640x480 with 1 Axes>"
      ]
     },
     "metadata": {},
     "output_type": "display_data"
    }
   ],
   "source": [
    "MeanShift(np.array(x) , np.array(y) , 3,100,kernel_=\"flat\")"
   ]
  },
  {
   "cell_type": "markdown",
   "id": "ce847152",
   "metadata": {},
   "source": [
    "# gaussian kernel"
   ]
  },
  {
   "cell_type": "code",
   "execution_count": 12,
   "id": "69bb0433",
   "metadata": {},
   "outputs": [
    {
     "name": "stdout",
     "output_type": "stream",
     "text": [
      "labels : [0, 1, 0, 3, 4, 5, 0]\n",
      "centers : {(2.0, 2.329127698386126), (10.5, 11.0), (6.499999999999998, 7.0)}\n"
     ]
    },
    {
     "data": {
      "image/png": "[encoded data removed]",
      "text/plain": [
       "<Figure size 640x480 with 1 Axes>"
      ]
     },
     "metadata": {},
     "output_type": "display_data"
    }
   ],
   "source": [
    "MeanShift(np.array(x) , np.array(y) , 3,100,kernel_=\"gaussian\")"
   ]
  },
  {
   "cell_type": "code",
   "execution_count": null,
   "id": "09c806b7",
   "metadata": {},
   "outputs": [],
   "source": []
  }
 ],
 "metadata": {
  "kernelspec": {
   "display_name": "Python 3 (ipykernel)",
   "language": "python",
   "name": "python3"
  },
  "language_info": {
   "codemirror_mode": {
    "name": "ipython",
    "version": 3
   },
   "file_extension": ".py",
   "mimetype": "text/x-python",
   "name": "python",
   "nbconvert_exporter": "python",
   "pygments_lexer": "ipython3",
   "version": "3.10.5"
  }
 },
 "nbformat": 4,
 "nbformat_minor": 5
}
